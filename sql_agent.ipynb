{
 "cells": [
  {
   "cell_type": "code",
   "execution_count": 27,
   "metadata": {},
   "outputs": [
    {
     "name": "stdout",
     "output_type": "stream",
     "text": [
      "sqlite\n",
      "['products']\n",
      "[('Replacement is possible',)]\n"
     ]
    }
   ],
   "source": [
    "from langchain_community.utilities import SQLDatabase\n",
    "\n",
    "db = SQLDatabase.from_uri(\"sqlite:///dim.db\")\n",
    "print(db.dialect)\n",
    "print(db.get_usable_table_names())\n",
    "\n",
    "user_input = \"headphones\"\n",
    "\n",
    "result = db.run(f\"\"\"\n",
    "    SELECT\n",
    "        CASE\n",
    "            WHEN EXISTS (\n",
    "                SELECT 1\n",
    "                FROM products p\n",
    "                WHERE p.bought_date >= DATE('now', '-30 day')\n",
    "                  AND p.product_name LIKE '%' || '{user_input}' || '%'\n",
    "                ORDER BY p.bought_date DESC\n",
    "                LIMIT 1\n",
    "            )\n",
    "            THEN 'Replacement is possible'\n",
    "            ELSE 'Replacement is not possible'\n",
    "        END AS replacement_status;\n",
    "\"\"\")\n",
    "\n",
    "print(result)"
   ]
  },
  {
   "cell_type": "code",
   "execution_count": 9,
   "metadata": {},
   "outputs": [],
   "source": [
    "from langchain_community.agent_toolkits import create_sql_agent\n",
    "from langchain_groq import ChatGroq\n",
    "\n",
    "llm = ChatGroq(temperature=0, groq_api_key=\"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\", model_name=\"mixtral-8x7b-32768\")\n",
    "agent_executor = create_sql_agent(llm, db=db, agent_type=\"openai-tools\", verbose=True)"
   ]
  },
  {
   "cell_type": "code",
   "execution_count": 12,
   "metadata": {},
   "outputs": [
    {
     "data": {
      "text/plain": [
       "'\\nCREATE TABLE products (\\n\\tproduct_id TEXT, \\n\\tproduct_name TEXT, \\n\\tcategory TEXT, \\n\\tdiscounted_price REAL, \\n\\tactual_price REAL, \\n\\tdiscount_percentage INTEGER, \\n\\trating REAL, \\n\\trating_count INTEGER, \\n\\tabout_product TEXT, \\n\\tbought_date TEXT\\n)\\n\\n/*\\n3 rows from products table:\\nproduct_id\\tproduct_name\\tcategory\\tdiscounted_price\\tactual_price\\tdiscount_percentage\\trating\\trating_count\\tabout_product\\tbought_date\\nB07JW9H4J1\\tWayona Nylon Braided USB to Lightning Fast Charging and Data Sync Cable Compatible for iPhone 13, 12\\tComputers&Accessories|Accessories&Peripherals|Cables&Accessories|Cables|USBCables\\t399.0\\t1099.0\\t64\\t4.2\\t24269\\tHigh Compatibility : Compatible With iPhone 12, 11, X/XsMax/Xr ,iPhone 8/8 Plus,iPhone 7/7 Plus,iPho\\t11-11-2023\\nB098NS6PVG\\tAmbrane Unbreakable 60W / 3A Fast Charging 1.5m Braided Type C Cable for Smartphones, Tablets, Lapto\\tComputers&Accessories|Accessories&Peripherals|Cables&Accessories|Cables|USBCables\\t199.0\\t349.0\\t43\\t4.0\\t43994\\tCompatible with all Type C enabled devices, be it an android smartphone (Mi, Samsung, Oppo, Vivo, Re\\t05-01-2024\\nB096MSW6CT\\tSounce Fast Phone Charging Cable & Data Sync USB Cable Compatible for iPhone 13, 12,11, X, 8, 7, 6, \\tComputers&Accessories|Accessories&Peripherals|Cables&Accessories|Cables|USBCables\\t199.0\\t1899.0\\t90\\t3.9\\t7928\\t? Fast Charger& Data Sync?-With built-in safety proctections and four-core copper wires promote maxi\\t25-04-2024\\n*/'"
      ]
     },
     "execution_count": 12,
     "metadata": {},
     "output_type": "execute_result"
    }
   ],
   "source": [
    "db.get_table_info()"
   ]
  },
  {
   "cell_type": "code",
   "execution_count": 3,
   "metadata": {},
   "outputs": [
    {
     "data": {
      "text/plain": [
       "'\\nCREATE TABLE products (\\n\\tproduct_id TEXT, \\n\\tproduct_name TEXT, \\n\\tcategory TEXT, \\n\\tdiscounted_price REAL, \\n\\tactual_price REAL, \\n\\tdiscount_percentage INTEGER, \\n\\trating REAL, \\n\\trating_count INTEGER, \\n\\tabout_product TEXT, \\n\\tbought_date TEXT\\n)\\n\\n/*\\n3 rows from products table:\\nproduct_id\\tproduct_name\\tcategory\\tdiscounted_price\\tactual_price\\tdiscount_percentage\\trating\\trating_count\\tabout_product\\tbought_date\\nB07JW9H4J1\\tWayona Nylon Braided USB to Lightning Fast Charging and Data Sync Cable Compatible for iPhone 13, 12\\tComputers&Accessories|Accessories&Peripherals|Cables&Accessories|Cables|USBCables\\t399.0\\t1099.0\\t64\\t4.2\\t24269\\tHigh Compatibility : Compatible With iPhone 12, 11, X/XsMax/Xr ,iPhone 8/8 Plus,iPhone 7/7 Plus,iPho\\t11-11-2023\\nB098NS6PVG\\tAmbrane Unbreakable 60W / 3A Fast Charging 1.5m Braided Type C Cable for Smartphones, Tablets, Lapto\\tComputers&Accessories|Accessories&Peripherals|Cables&Accessories|Cables|USBCables\\t199.0\\t349.0\\t43\\t4.0\\t43994\\tCompatible with all Type C enabled devices, be it an android smartphone (Mi, Samsung, Oppo, Vivo, Re\\t05-01-2024\\nB096MSW6CT\\tSounce Fast Phone Charging Cable & Data Sync USB Cable Compatible for iPhone 13, 12,11, X, 8, 7, 6, \\tComputers&Accessories|Accessories&Peripherals|Cables&Accessories|Cables|USBCables\\t199.0\\t1899.0\\t90\\t3.9\\t7928\\t? Fast Charger& Data Sync?-With built-in safety proctections and four-core copper wires promote maxi\\t25-04-2024\\n*/'"
      ]
     },
     "execution_count": 3,
     "metadata": {},
     "output_type": "execute_result"
    }
   ],
   "source": [
    "db.get_table_info()"
   ]
  },
  {
   "cell_type": "code",
   "execution_count": 4,
   "metadata": {},
   "outputs": [
    {
     "name": "stdout",
     "output_type": "stream",
     "text": [
      "Current date: 2024-04-28\n"
     ]
    }
   ],
   "source": [
    "from datetime import datetime\n",
    "\n",
    "def get_current_date():\n",
    "    \"\"\"\n",
    "    Get the current date in the format YYYY-MM-DD.\n",
    "    \"\"\"\n",
    "    current_date = datetime.now().date()\n",
    "    return current_date\n",
    "\n",
    "# Example usage\n",
    "print(\"Current date:\", get_current_date())\n"
   ]
  },
  {
   "cell_type": "code",
   "execution_count": null,
   "metadata": {},
   "outputs": [],
   "source": []
  },
  {
   "cell_type": "code",
   "execution_count": null,
   "metadata": {},
   "outputs": [],
   "source": []
  }
 ],
 "metadata": {
  "kernelspec": {
   "display_name": "Python 3",
   "language": "python",
   "name": "python3"
  },
  "language_info": {
   "codemirror_mode": {
    "name": "ipython",
    "version": 3
   },
   "file_extension": ".py",
   "mimetype": "text/x-python",
   "name": "python",
   "nbconvert_exporter": "python",
   "pygments_lexer": "ipython3",
   "version": "3.10.0"
  }
 },
 "nbformat": 4,
 "nbformat_minor": 2
}
